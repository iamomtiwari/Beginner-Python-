{
 "cells": [
  {
   "cell_type": "code",
   "execution_count": 19,
   "metadata": {},
   "outputs": [],
   "source": [
    "import tkinter as tk\n",
    "root = tk.Tk()\n",
    "button = tk.Button(root, text='Stop', width=25, command=root.destroy) \n",
    "button.pack() \n",
    "root.mainloop()\n"
   ]
  },
  {
   "cell_type": "code",
   "execution_count": 22,
   "metadata": {},
   "outputs": [],
   "source": [
    "import tkinter as tk\n",
    "root = tk.Tk()\n",
    "label = tk.Label(root, text='Hello World!')\n",
    "label.grid()\n",
    "root.mainloop()\n"
   ]
  },
  {
   "cell_type": "code",
   "execution_count": 23,
   "metadata": {},
   "outputs": [],
   "source": [
    "import tkinter as tk \n",
    "r = tk.Tk() \n",
    "r.title('Counting Seconds') \n",
    "button = tk.Button(r, text='Stop', width=50, command=r.destroy) \n",
    "button.pack() \n",
    "r.mainloop() \n"
   ]
  },
  {
   "cell_type": "code",
   "execution_count": 26,
   "metadata": {},
   "outputs": [],
   "source": [
    "import tkinter as tk\n",
    "from tkinter import messagebox\n",
    "def hello():\n",
    "   msg = messagebox.showinfo( \"GUI Event Demo\",\"Button Demo\")\n",
    "root = tk.Tk()\n",
    "root.geometry(\"500x500\")\n",
    "b = tk.Button(root, text='Fire Me',command=hello)\n",
    "b.place(x=220,y=50)\n",
    "root.mainloop()\n"
   ]
  },
  {
   "cell_type": "code",
   "execution_count": 27,
   "metadata": {},
   "outputs": [],
   "source": [
    "def hello():\n",
    "   msg = messagebox.showinfo( \"GUI Event Demo\",t.get())\n",
    "root = tk.Tk()\n",
    "root.geometry(\"500x500\")\n",
    "l1=tk.Label(root,text=\"Name:\")\n",
    "l1.grid(row=0)\n",
    "t=tk.Entry(root)\n",
    "t.grid(row=0,column=1)\n",
    "b = tk.Button(root, text='Fire Me',command=hello)\n",
    "b.grid(row=1,columnspan=2);\n",
    "root.mainloop()\n"
   ]
  },
  {
   "cell_type": "code",
   "execution_count": 29,
   "metadata": {},
   "outputs": [],
   "source": [
    "from tkinter import *\n",
    "master = Tk() \n",
    "w = Canvas(master, width=40, height=60) \n",
    "w.pack() \n",
    "canvas_height=20\n",
    "canvas_width=100\n",
    "y = int(canvas_height / 2) \n",
    "w.create_line(0, y, canvas_width, y ) \n",
    "mainloop()\n"
   ]
  },
  {
   "cell_type": "code",
   "execution_count": 31,
   "metadata": {},
   "outputs": [],
   "source": [
    "from tkinter import *\n",
    "from tkinter import messagebox\n",
    "top = Tk()\n",
    "C = Canvas(top, bg = \"blue\", height = 250, width = 300)\n",
    "coord = 50, 100, 300, 280\n",
    "arc = C.create_arc(coord, start = 90, extent = 205, fill = \"red\")\n",
    "line = C.create_line(50,50,300,300,fill = 'white')\n",
    "C.pack()\n",
    "top.mainloop()\n"
   ]
  },
  {
   "cell_type": "code",
   "execution_count": 32,
   "metadata": {},
   "outputs": [],
   "source": [
    "from tkinter import *\n",
    "from tkinter import messagebox\n",
    "root= Tk()\n",
    "root.geometry(\"200x200\")\n",
    "def choice():\n",
    "    if(radio.get()==1):\n",
    "        root.configure(background='red')\n",
    "    elif(radio.get()==2):\n",
    "        root.configure(background='blue')\n",
    "    elif(radio.get()==3):\n",
    "        root.configure(background='green')\n",
    "    else:\n",
    "        output=\"Invalid\"\n",
    "radio=IntVar()\n",
    "rb1=Radiobutton(root,text='Red', variable=radio,width=25,value=1,command=choice)\n",
    "rb1.grid(row=0)\n",
    "rb2=Radiobutton(root,text='Blue', variable=radio,width=25,value=2,command=choice)\n",
    "rb2.grid(row=1)\n",
    "rb3=Radiobutton(root,text='Green', variable=radio,width=25,value=3,command=choice)\n",
    "rb3.grid(row=3)\n",
    "root.mainloop() \n",
    "\n"
   ]
  },
  {
   "cell_type": "code",
   "execution_count": 37,
   "metadata": {},
   "outputs": [],
   "source": [
    "from tkinter import messagebox\n",
    "root= Tk()\n",
    "root.title('Scale Demo')\n",
    "root.geometry(\"10000x10000\")\n",
    "def slide():\n",
    "    msg = messagebox.showinfo( \"GUI Event Demo\",v.get())\n",
    "v = DoubleVar()  \n",
    "scale = Scale( root, variable = v, from_ = 1, to = 10000, orient = VERTICAL,length=100)  \n",
    "scale.pack(anchor=CENTER)\n",
    "btn = Button(root, text=\"Value\", command=slide)  \n",
    "btn.pack(anchor=CENTER)  \n",
    "root.mainloop() \n"
   ]
  },
  {
   "cell_type": "code",
   "execution_count": 38,
   "metadata": {},
   "outputs": [],
   "source": [
    "from tkinter import *\n",
    "from tkinter import messagebox\n",
    "\n",
    "root= Tk()\n",
    "root.title('Scale Demo')\n",
    "root.geometry(\"200x200\")\n",
    "def slide():\n",
    "    msg = messagebox.showinfo( \"SpinBox Event Demo\",spin.get())\n",
    "spin = Spinbox(root, from_= 0, to = 25) \n",
    "spin.pack(anchor=CENTER)  \n",
    "btn = Button(root, text=\"Value\", command=slide)  \n",
    "btn.pack(anchor=CENTER)  \n",
    "root.mainloop() \n"
   ]
  },
  {
   "cell_type": "code",
   "execution_count": 39,
   "metadata": {},
   "outputs": [],
   "source": [
    "from tkinter import *\n",
    "from tkinter import messagebox\n",
    "root= Tk()\n",
    "root.title('Scale Demo')\n",
    "root.geometry(\"200x200\")\n",
    "def menu():\n",
    "    msg=messagebox.showinfo( \"SpinBox Event Demo\")\n",
    "menubutton = Menubutton(root, text = \"File\", relief = FLAT)  \n",
    "menubutton.grid()  \n",
    "menubutton.menu = Menu(menubutton)  \n",
    "menubutton[\"menu\"]=menubutton.menu  \n",
    "menubutton.menu.add_checkbutton(label = \"New\", variable=IntVar(),command=menu)  \n",
    "menubutton.menu.add_checkbutton(label = \"Open\", variable = IntVar(), command=menu)  \n",
    "menubutton.pack()  \n",
    "root.mainloop() "
   ]
  },
  {
   "cell_type": "code",
   "execution_count": 1,
   "metadata": {},
   "outputs": [
    {
     "name": "stdout",
     "output_type": "stream",
     "text": [
      "New Menu!\n",
      "Open Menu!\n"
     ]
    }
   ],
   "source": [
    "from tkinter import *\n",
    "from tkinter import messagebox\n",
    "root= Tk()\n",
    "root.title('Menu Demo')\n",
    "root.geometry(\"200x200\")\n",
    "def new():\n",
    "    print(\"New Menu!\")\n",
    "def disp():\n",
    "    print(\"Open Menu!\")\n",
    "menubutton = Menubutton(root, text=\"File\")\n",
    "menubutton.grid()\n",
    "menubutton.menu = Menu(menubutton,tearoff=0)\n",
    "menubutton[\"menu\"] = menubutton.menu\n",
    "menubutton.menu.add_command(label=\"Create new\",command=new)\n",
    "menubutton.menu.add_command(label=\"Open\",command=disp)\n",
    "menubutton.menu.add_separator()\n",
    "menubutton.menu.add_command(label=\"Exit\",command=root.quit)\n",
    "menubutton.pack()\n",
    "root.mainloop() \n"
   ]
  },
  {
   "cell_type": "code",
   "execution_count": 2,
   "metadata": {},
   "outputs": [
    {
     "name": "stdout",
     "output_type": "stream",
     "text": [
      "registration form  seccussfully created...\n"
     ]
    }
   ],
   "source": [
    "from tkinter import*\n",
    "root = Tk()\n",
    "root.geometry('500x500')\n",
    "root.title(\"Registration Form\")\n",
    "label_0 = Label(root, text=\"Registration form\",width=80,font=(\"bold\", 20))\n",
    "label_0.place(x=90,y=53)\n",
    "label_1 = Label(root, text=\"FullName\",width=20,font=(\"bold\", 10))\n",
    "label_1.place(x=80,y=130)\n",
    "entry_1 = Entry(root)\n",
    "entry_1.place(x=240,y=130)\n",
    "label_2 = Label(root, text=\"Email\",width=20,font=(\"bold\", 10))\n",
    "label_2.place(x=68,y=180)\n",
    "entry_2 = Entry(root)\n",
    "entry_2.place(x=240,y=180)\n",
    "label_3 = Label(root, text=\"Gender\",width=20,font=(\"bold\", 10))\n",
    "label_3.place(x=70,y=230)\n",
    "var = IntVar()\n",
    "Radiobutton(root, text=\"Male\",padx = 5, variable=var, value=1).place(x=235,y=230)\n",
    "Radiobutton(root, text=\"Female\",padx = 50, variable=var, value=2).place(x=290,y=230)\n",
    "label_4 = Label(root, text=\"Age:\",width=20,font=(\"bold\", 10))\n",
    "label_4.place(x=70,y=280)\n",
    "entry_2 = Entry(root)\n",
    "entry_2.place(x=240,y=280)\n",
    "Button(root, text='Insert',width=20,bg='brown',fg='white').place(x=180,y=380)\n",
    "Button(root, text='Update',width=20,bg='brown',fg='white').place(x=300,y=380)\n",
    "Button(root, text='Delete',width=20,bg='brown',fg='white').place(x=180,y=420)\n",
    "Button(root, text='Select',width=20,bg='brown',fg='white').place(x=300,y=420)\n",
    "# it is use for display the registration form on the window\n",
    "root.mainloop()\n",
    "print(\"registration form  seccussfully created...\")"
   ]
  },
  {
   "cell_type": "code",
   "execution_count": null,
   "metadata": {},
   "outputs": [],
   "source": []
  },
  {
   "cell_type": "code",
   "execution_count": null,
   "metadata": {},
   "outputs": [],
   "source": []
  },
  {
   "cell_type": "code",
   "execution_count": null,
   "metadata": {},
   "outputs": [],
   "source": []
  }
 ],
 "metadata": {
  "kernelspec": {
   "display_name": "Python 3",
   "language": "python",
   "name": "python3"
  },
  "language_info": {
   "codemirror_mode": {
    "name": "ipython",
    "version": 3
   },
   "file_extension": ".py",
   "mimetype": "text/x-python",
   "name": "python",
   "nbconvert_exporter": "python",
   "pygments_lexer": "ipython3",
   "version": "3.7.4"
  }
 },
 "nbformat": 4,
 "nbformat_minor": 2
}

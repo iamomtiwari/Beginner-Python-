{
 "cells": [
  {
   "cell_type": "code",
   "execution_count": 26,
   "metadata": {},
   "outputs": [
    {
     "name": "stdout",
     "output_type": "stream",
     "text": [
      "Hello\n",
      "2\n"
     ]
    }
   ],
   "source": [
    "def my_function(a):\n",
    "    print(\"Hello\")\n",
    "    print(a)\n",
    "my_function(2)\n"
   ]
  },
  {
   "cell_type": "code",
   "execution_count": 27,
   "metadata": {},
   "outputs": [
    {
     "name": "stdout",
     "output_type": "stream",
     "text": [
      "5\n"
     ]
    }
   ],
   "source": [
    "def printme(str):\n",
    "    print(str)\n",
    "printme(5)\n"
   ]
  },
  {
   "cell_type": "code",
   "execution_count": 8,
   "metadata": {},
   "outputs": [
    {
     "name": "stdout",
     "output_type": "stream",
     "text": [
      "Name:  Priya\n",
      "Age:   52\n"
     ]
    }
   ],
   "source": [
    "def printinfo(name,age):\n",
    "    \"This prints a passed info into this function\"\n",
    "    print(\"Name: \",name)\n",
    "    print(\"Age:  \",age)\n",
    "printinfo(age=52,name=\"Priya\")"
   ]
  },
  {
   "cell_type": "code",
   "execution_count": 13,
   "metadata": {},
   "outputs": [
    {
     "name": "stdout",
     "output_type": "stream",
     "text": [
      "Name:  Jp\n",
      "Age:   34\n"
     ]
    }
   ],
   "source": [
    "def printdefault(name, age=30):\n",
    "    print(\"Name: \",name)\n",
    "    print(\"Age:  \",age)\n",
    "    return\n",
    "printdefault(\"Jp\",34)\n",
    "    "
   ]
  },
  {
   "cell_type": "code",
   "execution_count": 15,
   "metadata": {},
   "outputs": [
    {
     "name": "stdout",
     "output_type": "stream",
     "text": [
      "Output is: \n",
      "hai 10\n",
      "20\n",
      "JP\n",
      "40\n"
     ]
    }
   ],
   "source": [
    "def printinfo(arg1, *vartuple):\n",
    "    #print \n",
    "    print(\"Output is: \")\n",
    "    print(\"hai\",arg1)\n",
    "    for a in vartuple:\n",
    "        print(a)\n",
    "    return;\n",
    "#printinfo(40)\n",
    "printinfo(10,20,\"JP\",40)"
   ]
  },
  {
   "cell_type": "code",
   "execution_count": 20,
   "metadata": {},
   "outputs": [
    {
     "name": "stdout",
     "output_type": "stream",
     "text": [
      "value of sum: SecE\n"
     ]
    }
   ],
   "source": [
    "total=lambda arg1,arg2:arg1+arg2;\n",
    "print(\"value of sum:\",total(\"Sec\",\"E\"))"
   ]
  },
  {
   "cell_type": "code",
   "execution_count": 21,
   "metadata": {},
   "outputs": [
    {
     "name": "stdout",
     "output_type": "stream",
     "text": [
      "Inside the function: 30\n",
      "Outside the function: 30\n"
     ]
    }
   ],
   "source": [
    "def sum(arg1,arg2):\n",
    "    total=arg1+arg2\n",
    "    print(\"Inside the function:\", total)\n",
    "    return(total)\n",
    "    #return total;\n",
    "T=sum(10,20);\n",
    "print(\"Outside the function:\",T)"
   ]
  },
  {
   "cell_type": "code",
   "execution_count": 24,
   "metadata": {},
   "outputs": [
    {
     "name": "stdout",
     "output_type": "stream",
     "text": [
      "15\n"
     ]
    }
   ],
   "source": [
    "x=lambda a:a+10\n",
    "print(x(5));"
   ]
  },
  {
   "cell_type": "code",
   "execution_count": 31,
   "metadata": {},
   "outputs": [
    {
     "name": "stdout",
     "output_type": "stream",
     "text": [
      "parrot NameBlu and age20\n"
     ]
    }
   ],
   "source": [
    "class parrot:\n",
    "    name=\"Blu\"\n",
    "    age=20\n",
    "obj=parrot()\n",
    "print(\"parrot Name{} and age{}\".format(obj.name,obj.age))"
   ]
  },
  {
   "cell_type": "code",
   "execution_count": 40,
   "metadata": {},
   "outputs": [
    {
     "name": "stdout",
     "output_type": "stream",
     "text": [
      "bird\n",
      "The parrot is green\n"
     ]
    }
   ],
   "source": [
    "class parrot:\n",
    "   species=\"bird\"\n",
    "   def green(self):\n",
    "        print(\"The parrot is green\")\n",
    "p=parrot()\n",
    "print(p.species)\n",
    "p.green()"
   ]
  },
  {
   "cell_type": "code",
   "execution_count": 24,
   "metadata": {},
   "outputs": [
    {
     "name": "stdout",
     "output_type": "stream",
     "text": [
      "rno= 123\n",
      "name= Jaya\n",
      "branch= CSE\n",
      "roll No= 123\n",
      "reading\n"
     ]
    }
   ],
   "source": [
    "class student:\n",
    "    rno=123\n",
    "    name=\"Jaya\"\n",
    "    branch=\"CSE\"\n",
    "    def read(self):\n",
    "        rno=345\n",
    "        print(\"roll No=\", self.rno)\n",
    "       # print(\"Instance variable=\",self.rno)\n",
    "        print(\"reading\")\n",
    "abc=student()\n",
    "print(\"rno=\", abc.rno)\n",
    "print(\"name=\", abc.name)\n",
    "print(\"branch=\", abc.branch)\n",
    "abc.read()\n",
    "        "
   ]
  },
  {
   "cell_type": "code",
   "execution_count": 15,
   "metadata": {},
   "outputs": [
    {
     "name": "stdout",
     "output_type": "stream",
     "text": [
      "name Blue\n",
      "song Happy\n",
      "parrot name: Pap\n",
      "parrot song: cucko\n",
      "parrot name: Blue\n",
      "parrot song: Happy\n",
      "singing\n"
     ]
    }
   ],
   "source": [
    "class Parrot:\n",
    "    name =\"Blue\"\n",
    "    song=\"Happy\"\n",
    "    def sing(self):\n",
    "        name=\"Pap\"\n",
    "        song=\"cucko\"\n",
    "        print(\"parrot name:\",name)\n",
    "        print(\"parrot song:\",song)\n",
    "        print(\"parrot name:\",self.name)\n",
    "        print(\"parrot song:\",self.song)\n",
    "        print(\"singing\")\n",
    "blu=Parrot()\n",
    "print(\"name\",blu.name)\n",
    "print(\"song\",blu.song)\n",
    "blu.sing()\n",
    "\n"
   ]
  },
  {
   "cell_type": "code",
   "execution_count": 3,
   "metadata": {},
   "outputs": [
    {
     "name": "stdout",
     "output_type": "stream",
     "text": [
      "This is function one\n",
      "This is function two\n"
     ]
    }
   ],
   "source": [
    "# Single Inheritance\n",
    "class parent:\n",
    "    def func1(self):\n",
    "        print(\"This is function one\")\n",
    "class child(parent):\n",
    "    def func2(self):\n",
    "        print(\"This is function two\")\n",
    "ob=child()\n",
    "ob.func1()\n",
    "ob.func2()"
   ]
  },
  {
   "cell_type": "code",
   "execution_count": 10,
   "metadata": {},
   "outputs": [
    {
     "name": "stdout",
     "output_type": "stream",
     "text": [
      "This is function 1 \n",
      "This is function 2 \n",
      "This is function 3 \n"
     ]
    }
   ],
   "source": [
    "#Multiple Inheitance\n",
    "class parent1:\n",
    "    def func1(self):\n",
    "        print(\"This is function 1 \")\n",
    "class parent2:\n",
    "    def func2(self):\n",
    "        print(\"This is function 2 \")\n",
    "class child(parent1, parent2):\n",
    "    def func3(self):\n",
    "        print(\"This is function 3 \")\n",
    "ob=child()\n",
    "ob.func1()\n",
    "ob.func2()\n",
    "ob.func3()"
   ]
  },
  {
   "cell_type": "code",
   "execution_count": 11,
   "metadata": {},
   "outputs": [
    {
     "name": "stdout",
     "output_type": "stream",
     "text": [
      "This is function one \n",
      "This is function two\n",
      "This is function three\n"
     ]
    }
   ],
   "source": [
    "# Multilevel Inheritance\n",
    "class parent:\n",
    "    def func1(self):\n",
    "        print(\"This is function one \")\n",
    "class child1(parent):\n",
    "    def func2(self):\n",
    "        print(\"This is function two\")\n",
    "class child2(child1):\n",
    "    def func3(self):\n",
    "        print(\"This is function three\")\n",
    "ob=child2()\n",
    "ob.func1()\n",
    "ob.func2()\n",
    "ob.func3()\n",
    "\n"
   ]
  },
  {
   "cell_type": "code",
   "execution_count": 12,
   "metadata": {},
   "outputs": [
    {
     "name": "stdout",
     "output_type": "stream",
     "text": [
      "This is function one \n",
      "This is function two\n",
      "This is function one \n",
      "This is function two\n"
     ]
    }
   ],
   "source": [
    "#Hierarchial Inheritance\n",
    "class parent:\n",
    "    def func1(self):\n",
    "        print(\"This is function one \")\n",
    "class child1(parent):\n",
    "    def func2(self):\n",
    "        print(\"This is function two\")\n",
    "class child2(parent):\n",
    "    def func3(self):\n",
    "        print(\"This is function two\")\n",
    "ob=child1()\n",
    "ob1=child2()\n",
    "ob.func1()\n",
    "ob.func2()\n",
    "ob1.func1()\n",
    "ob1.func3()"
   ]
  },
  {
   "cell_type": "code",
   "execution_count": 13,
   "metadata": {},
   "outputs": [
    {
     "name": "stdout",
     "output_type": "stream",
     "text": [
      "This is function one \n",
      "This is function Three\n",
      "This is function Four\n"
     ]
    }
   ],
   "source": [
    "#Hybrid Inheritance\n",
    "class parent:\n",
    "    def func1(self):\n",
    "        print(\"This is function one \")\n",
    "class child1(parent):\n",
    "    def func2(self):\n",
    "        print(\"This is function two\")\n",
    "class child2(parent):\n",
    "    def func3(self):\n",
    "        print(\"This is function Three\")\n",
    "class child3(child2, parent):\n",
    "    def func4(self):\n",
    "        print(\"This is function Four\")\n",
    "ob=child3()\n",
    "ob.func1()\n",
    "#ob.func2()\n",
    "ob.func3()\n",
    "ob.func4()\n"
   ]
  },
  {
   "cell_type": "code",
   "execution_count": 22,
   "metadata": {},
   "outputs": [
    {
     "name": "stdout",
     "output_type": "stream",
     "text": [
      "This is function two\n",
      "This is function one\n"
     ]
    }
   ],
   "source": [
    "#Super Function\n",
    "class parent:\n",
    "    def func1(self):\n",
    "        print(\"This is function one\")\n",
    "class child(parent):\n",
    "    def func2(self):\n",
    "        print(\"This is function two\")\n",
    "        super().func1()\n",
    "\n",
    "ob=child()\n",
    "ob.func2()"
   ]
  },
  {
   "cell_type": "code",
   "execution_count": 34,
   "metadata": {},
   "outputs": [
    {
     "name": "stdout",
     "output_type": "stream",
     "text": [
      "This is function two\n"
     ]
    }
   ],
   "source": [
    "#Method Overridding\n",
    "class parent:\n",
    "    def func1(self):\n",
    "        print(\"This is function one\")\n",
    "class child(parent):\n",
    "    def func1(self):\n",
    "        print(\"This is function two\")\n",
    "ob=child()\n",
    "ob.func1()"
   ]
  },
  {
   "cell_type": "code",
   "execution_count": 7,
   "metadata": {},
   "outputs": [
    {
     "name": "stdout",
     "output_type": "stream",
     "text": [
      "Updating software\n",
      "driving\n"
     ]
    }
   ],
   "source": [
    "#init method\n",
    "class car:\n",
    "    def __init__(self):\n",
    "        self.__updatesoftware()\n",
    "    def drive(self):\n",
    "        print(\"driving\")\n",
    "    def __updatesoftware(self):\n",
    "        print(\"Updating software\")\n",
    "c=car()\n",
    "c.drive()"
   ]
  },
  {
   "cell_type": "code",
   "execution_count": 23,
   "metadata": {},
   "outputs": [
    {
     "name": "stdout",
     "output_type": "stream",
     "text": [
      "Penguin is ready\n",
      "penguin\n",
      "swim faster\n",
      "run faster\n"
     ]
    }
   ],
   "source": [
    "#init method\n",
    "class bird:\n",
    "    def __init__(self):\n",
    "        print(\"Bird is ready\")\n",
    "    def who(self):\n",
    "        print(\"Bird\")\n",
    "    def swim(self):\n",
    "          print(\"swim faster\")\n",
    "#child class\n",
    "class penguin(bird):\n",
    "    def __init__(self):\n",
    "        #call super function\n",
    "        super().__init__()\n",
    "        print(\"Penguin is ready\")\n",
    "    def who(self):\n",
    "        print(\"penguin\")\n",
    "    def run(self):\n",
    "        print(\"run faster\")\n",
    "peggy=penguin()\n",
    "peggy.who()\n",
    "peggy.swim()\n",
    "peggy.run()\n"
   ]
  },
  {
   "cell_type": "code",
   "execution_count": 1,
   "metadata": {},
   "outputs": [
    {
     "name": "stdout",
     "output_type": "stream",
     "text": [
      "Selling price :900\n",
      "Selling price1 :1100\n",
      "Selling price1 :1200\n",
      "Selling price :1200\n"
     ]
    }
   ],
   "source": [
    "class computer:\n",
    "    def __init__(self):\n",
    "        self.__maxprice=900\n",
    "    def sell(self):\n",
    "        print(\"Selling price :{}\". format(self.__maxprice))\n",
    "    def setmaxprice(self,price):\n",
    "        self.__maxprice=price\n",
    "        print(\"Selling price1 :{}\". format(price))\n",
    "c=computer()\n",
    "c.sell()\n",
    "#change the price\n",
    "c.setmaxprice(1100)\n",
    "# using setter function\n",
    "c.setmaxprice(1200)\n",
    "c.sell()"
   ]
  },
  {
   "cell_type": "code",
   "execution_count": 3,
   "metadata": {},
   "outputs": [
    {
     "name": "stdout",
     "output_type": "stream",
     "text": [
      "Parrot can fly\n",
      "Penguin can't fly\n"
     ]
    }
   ],
   "source": [
    "#polymorphism\n",
    "class Parrot:\n",
    "    def fly(self):\n",
    "        print(\"Parrot can fly\")\n",
    "    def swim(self):\n",
    "        print(\"Parrot can't swim\")\n",
    "\n",
    "class Penguin:\n",
    "    def fly(self):\n",
    "        print(\"Penguin can't fly\")\n",
    "    def swim(self):\n",
    "        print(\"Penguin can swim\")\n",
    "# common interface\n",
    "def flying_test(bird):\n",
    "            bird.fly()\n",
    "#instantiate objects\n",
    "blu = Parrot()\n",
    "peggy = Penguin()\n",
    "# passing the object\n",
    "flying_test(blu)\n",
    "flying_test(peggy)\n",
    "\n"
   ]
  },
  {
   "cell_type": "code",
   "execution_count": 16,
   "metadata": {},
   "outputs": [
    {
     "name": "stdout",
     "output_type": "stream",
     "text": [
      "Green\n",
      "Blu\n"
     ]
    }
   ],
   "source": [
    "#constructor\n",
    "class bird:\n",
    "    name=\"Green\"\n",
    "#default constructor\n",
    "    def __init__(self):\n",
    "        print(self.name)\n",
    "#a method for printing data member\n",
    "    def print_bird(self):\n",
    "        self.name=\"Blu\"\n",
    "        print(self.name)\n",
    "#creating the object\n",
    "obj=bird()\n",
    "# calling the instance method using the object obj \n",
    "obj.print_bird() \n"
   ]
  },
  {
   "cell_type": "code",
   "execution_count": 22,
   "metadata": {},
   "outputs": [
    {
     "name": "stdout",
     "output_type": "stream",
     "text": [
      "1000\n",
      "2000\n",
      "3000\n",
      "First number=1000\n",
      "Second number=2000\n",
      "Third number=0\n"
     ]
    }
   ],
   "source": [
    "#Parametrized Constructor\n",
    "class addition:\n",
    "    first=0\n",
    "    second=0\n",
    "    third=0\n",
    "#Parametrized constructor\n",
    "    def __init__(self,f,s):\n",
    "        self.first=f\n",
    "        self.second=s\n",
    "        print(self.first)\n",
    "        print(self.second)\n",
    "    def display(self):\n",
    "        print(\"First number=\" + str(self.first))\n",
    "        print(\"Second number=\" + str(self.second))\n",
    "        print(\"Third number=\" + str(self.third))\n",
    "    def calculate(self):\n",
    "        self.answer=self.first + self.second\n",
    "        print(self.answer)\n",
    "#creating the object\n",
    "obj=addition(1000,2000)\n",
    "obj.calculate()\n",
    "obj.display()"
   ]
  },
  {
   "cell_type": "code",
   "execution_count": 25,
   "metadata": {},
   "outputs": [
    {
     "name": "stdout",
     "output_type": "stream",
     "text": [
      "Employee created\n"
     ]
    }
   ],
   "source": [
    "class employee:\n",
    "#Initializing\n",
    "    def __init__(self):\n",
    "        print('Employee created')\n",
    "#Deleting (Calling destructor)\n",
    "   # def __del__(self):\n",
    "       # print('Destructor called, Employee deleted')\n",
    "obj=employee()\n",
    "#del obj"
   ]
  },
  {
   "cell_type": "code",
   "execution_count": 28,
   "metadata": {
    "scrolled": true
   },
   "outputs": [
    {
     "name": "stdout",
     "output_type": "stream",
     "text": [
      "Calling Create_obj() function...\n",
      "Making object\n",
      "employee created\n",
      "Function end\n",
      "Program End...\n"
     ]
    }
   ],
   "source": [
    "class employee:\n",
    "# Intializing constructor\n",
    "    def __init__(self):\n",
    "        print('employee created')\n",
    "#calling destructor\n",
    "    def __del__(self):\n",
    "        print('Destructor called')\n",
    "def Create_obj():\n",
    "    print('Making object')\n",
    "    obj=employee()\n",
    "    print('Function end')\n",
    "    return obj   \n",
    "print('Calling Create_obj() function...') \n",
    "obj = Create_obj() \n",
    "#del obj\n",
    "print('Program End...')\n"
   ]
  },
  {
   "cell_type": "code",
   "execution_count": 21,
   "metadata": {},
   "outputs": [
    {
     "name": "stdout",
     "output_type": "stream",
     "text": [
      "Calling Create_obj() function...\n",
      "employee created\n",
      "Destructor called\n",
      "Program End...\n"
     ]
    }
   ],
   "source": [
    "class employee:\n",
    "# Intializing constructor\n",
    "    def __init__(self):\n",
    "        print('employee created')\n",
    "#calling destructor\n",
    "    def __del__(self):\n",
    "        print('Destructor called')  \n",
    "print('Calling Create_obj() function...') \n",
    "obj = employee() \n",
    "print('Program End...')"
   ]
  },
  {
   "cell_type": "code",
   "execution_count": 22,
   "metadata": {},
   "outputs": [
    {
     "name": "stdout",
     "output_type": "stream",
     "text": [
      "Dog has four legs.\n",
      "Dog is a warm-blooded animal.\n"
     ]
    }
   ],
   "source": [
    "class Mammal(object):\n",
    "  def __init__(self, mammalName):\n",
    "    print(mammalName, 'is a warm-blooded animal.')\n",
    "    \n",
    "class Dog(Mammal):\n",
    "  def __init__(self):\n",
    "    print('Dog has four legs.')\n",
    "    super().__init__('Dog')\n",
    "    \n",
    "d1 = Dog()\n"
   ]
  },
  {
   "cell_type": "code",
   "execution_count": null,
   "metadata": {},
   "outputs": [],
   "source": []
  }
 ],
 "metadata": {
  "kernelspec": {
   "display_name": "Python 3",
   "language": "python",
   "name": "python3"
  },
  "language_info": {
   "codemirror_mode": {
    "name": "ipython",
    "version": 3
   },
   "file_extension": ".py",
   "mimetype": "text/x-python",
   "name": "python",
   "nbconvert_exporter": "python",
   "pygments_lexer": "ipython3",
   "version": "3.7.4"
  }
 },
 "nbformat": 4,
 "nbformat_minor": 2
}

{
 "cells": [
  {
   "cell_type": "markdown",
   "metadata": {},
   "source": [
    "# RA2011026010367\n",
    "# Week 2 - Batch 2\n",
    "# Fadhil Kolakkadan\n",
    "# CSE S1 --Btech Ai and ML"
   ]
  },
  {
   "cell_type": "code",
   "execution_count": 2,
   "metadata": {},
   "outputs": [
    {
     "name": "stderr",
     "output_type": "stream",
     "text": [
      "Invalid MIT-MAGIC-COOKIE-1 keyInvalid MIT-MAGIC-COOKIE-1 key"
     ]
    },
    {
     "ename": "TclError",
     "evalue": "couldn't connect to display \":1\"",
     "output_type": "error",
     "traceback": [
      "\u001b[0;31m---------------------------------------------------------------------------\u001b[0m",
      "\u001b[0;31mTclError\u001b[0m                                  Traceback (most recent call last)",
      "\u001b[1;32m/home/fadhil/Documents/APP files/APP_lab_5.ipynb Cell 2'\u001b[0m in \u001b[0;36m<cell line: 2>\u001b[0;34m()\u001b[0m\n\u001b[1;32m      <a href='vscode-notebook-cell:/home/fadhil/Documents/APP%20files/APP_lab_5.ipynb#ch0000001?line=0'>1</a>\u001b[0m \u001b[39mimport\u001b[39;00m \u001b[39mtkinter\u001b[39;00m \u001b[39mas\u001b[39;00m \u001b[39mtk\u001b[39;00m\n\u001b[0;32m----> <a href='vscode-notebook-cell:/home/fadhil/Documents/APP%20files/APP_lab_5.ipynb#ch0000001?line=1'>2</a>\u001b[0m window \u001b[39m=\u001b[39m tk\u001b[39m.\u001b[39;49mTk()\n\u001b[1;32m      <a href='vscode-notebook-cell:/home/fadhil/Documents/APP%20files/APP_lab_5.ipynb#ch0000001?line=2'>3</a>\u001b[0m window\u001b[39m.\u001b[39mconfigure(background\u001b[39m=\u001b[39m\u001b[39m'\u001b[39m\u001b[39m#232342\u001b[39m\u001b[39m'\u001b[39m)\n\u001b[1;32m      <a href='vscode-notebook-cell:/home/fadhil/Documents/APP%20files/APP_lab_5.ipynb#ch0000001?line=3'>4</a>\u001b[0m greeting \u001b[39m=\u001b[39m tk\u001b[39m.\u001b[39mLabel(window,text\u001b[39m=\u001b[39m\u001b[39m\"\u001b[39m\u001b[39mHello, Tkinter!\u001b[39m\u001b[39m\"\u001b[39m,bg\u001b[39m=\u001b[39m\u001b[39m\"\u001b[39m\u001b[39mBLUE\u001b[39m\u001b[39m\"\u001b[39m)\u001b[39m.\u001b[39mpack()\n",
      "File \u001b[0;32m/usr/lib/python3.10/tkinter/__init__.py:2299\u001b[0m, in \u001b[0;36mTk.__init__\u001b[0;34m(self, screenName, baseName, className, useTk, sync, use)\u001b[0m\n\u001b[1;32m   <a href='file:///usr/lib/python3.10/tkinter/__init__.py?line=2296'>2297</a>\u001b[0m         baseName \u001b[39m=\u001b[39m baseName \u001b[39m+\u001b[39m ext\n\u001b[1;32m   <a href='file:///usr/lib/python3.10/tkinter/__init__.py?line=2297'>2298</a>\u001b[0m interactive \u001b[39m=\u001b[39m \u001b[39mFalse\u001b[39;00m\n\u001b[0;32m-> <a href='file:///usr/lib/python3.10/tkinter/__init__.py?line=2298'>2299</a>\u001b[0m \u001b[39mself\u001b[39m\u001b[39m.\u001b[39mtk \u001b[39m=\u001b[39m _tkinter\u001b[39m.\u001b[39;49mcreate(screenName, baseName, className, interactive, wantobjects, useTk, sync, use)\n\u001b[1;32m   <a href='file:///usr/lib/python3.10/tkinter/__init__.py?line=2299'>2300</a>\u001b[0m \u001b[39mif\u001b[39;00m useTk:\n\u001b[1;32m   <a href='file:///usr/lib/python3.10/tkinter/__init__.py?line=2300'>2301</a>\u001b[0m     \u001b[39mself\u001b[39m\u001b[39m.\u001b[39m_loadtk()\n",
      "\u001b[0;31mTclError\u001b[0m: couldn't connect to display \":1\""
     ]
    }
   ],
   "source": [
    "import tkinter as tk\n",
    "window = tk.Tk()\n",
    "window.configure(background='#232342')\n",
    "greeting = tk.Label(window,text=\"Hello, Tkinter!\",bg=\"BLUE\").pack()\n",
    "mybutton = tk.Button(window,text=\"Click Me!\").pack()\n",
    "window.mainloop()"
   ]
  },
  {
   "cell_type": "code",
   "execution_count": 3,
   "metadata": {},
   "outputs": [
    {
     "name": "stderr",
     "output_type": "stream",
     "text": [
      "Invalid MIT-MAGIC-COOKIE-1 keyInvalid MIT-MAGIC-COOKIE-1 key"
     ]
    },
    {
     "ename": "TclError",
     "evalue": "couldn't connect to display \":1\"",
     "output_type": "error",
     "traceback": [
      "\u001b[0;31m---------------------------------------------------------------------------\u001b[0m",
      "\u001b[0;31mTclError\u001b[0m                                  Traceback (most recent call last)",
      "\u001b[1;32m/home/fadhil/Documents/APP files/APP_lab_5.ipynb Cell 3'\u001b[0m in \u001b[0;36m<cell line: 2>\u001b[0;34m()\u001b[0m\n\u001b[1;32m      <a href='vscode-notebook-cell:/home/fadhil/Documents/APP%20files/APP_lab_5.ipynb#ch0000002?line=0'>1</a>\u001b[0m \u001b[39mfrom\u001b[39;00m \u001b[39mtkinter\u001b[39;00m \u001b[39mimport\u001b[39;00m \u001b[39m*\u001b[39m\n\u001b[0;32m----> <a href='vscode-notebook-cell:/home/fadhil/Documents/APP%20files/APP_lab_5.ipynb#ch0000002?line=1'>2</a>\u001b[0m root \u001b[39m=\u001b[39m Tk()\n\u001b[1;32m      <a href='vscode-notebook-cell:/home/fadhil/Documents/APP%20files/APP_lab_5.ipynb#ch0000002?line=2'>3</a>\u001b[0m redbutton \u001b[39m=\u001b[39m Button(root, text\u001b[39m=\u001b[39m\u001b[39m\"\u001b[39m\u001b[39mRed\u001b[39m\u001b[39m\"\u001b[39m, fg\u001b[39m=\u001b[39m\u001b[39m\"\u001b[39m\u001b[39mred\u001b[39m\u001b[39m\"\u001b[39m,bg\u001b[39m=\u001b[39m\u001b[39m\"\u001b[39m\u001b[39mblack\u001b[39m\u001b[39m\"\u001b[39m)\u001b[39m.\u001b[39mpack(side\u001b[39m=\u001b[39mLEFT)\n\u001b[1;32m      <a href='vscode-notebook-cell:/home/fadhil/Documents/APP%20files/APP_lab_5.ipynb#ch0000002?line=3'>4</a>\u001b[0m greenbutton \u001b[39m=\u001b[39m Button(root, text\u001b[39m=\u001b[39m\u001b[39m\"\u001b[39m\u001b[39mGreen\u001b[39m\u001b[39m\"\u001b[39m, fg\u001b[39m=\u001b[39m\u001b[39m\"\u001b[39m\u001b[39mgreen\u001b[39m\u001b[39m\"\u001b[39m,bg\u001b[39m=\u001b[39m\u001b[39m\"\u001b[39m\u001b[39mblack\u001b[39m\u001b[39m\"\u001b[39m)\u001b[39m.\u001b[39mpack(side\u001b[39m=\u001b[39mRIGHT)\n",
      "File \u001b[0;32m/usr/lib/python3.10/tkinter/__init__.py:2299\u001b[0m, in \u001b[0;36mTk.__init__\u001b[0;34m(self, screenName, baseName, className, useTk, sync, use)\u001b[0m\n\u001b[1;32m   <a href='file:///usr/lib/python3.10/tkinter/__init__.py?line=2296'>2297</a>\u001b[0m         baseName \u001b[39m=\u001b[39m baseName \u001b[39m+\u001b[39m ext\n\u001b[1;32m   <a href='file:///usr/lib/python3.10/tkinter/__init__.py?line=2297'>2298</a>\u001b[0m interactive \u001b[39m=\u001b[39m \u001b[39mFalse\u001b[39;00m\n\u001b[0;32m-> <a href='file:///usr/lib/python3.10/tkinter/__init__.py?line=2298'>2299</a>\u001b[0m \u001b[39mself\u001b[39m\u001b[39m.\u001b[39mtk \u001b[39m=\u001b[39m _tkinter\u001b[39m.\u001b[39;49mcreate(screenName, baseName, className, interactive, wantobjects, useTk, sync, use)\n\u001b[1;32m   <a href='file:///usr/lib/python3.10/tkinter/__init__.py?line=2299'>2300</a>\u001b[0m \u001b[39mif\u001b[39;00m useTk:\n\u001b[1;32m   <a href='file:///usr/lib/python3.10/tkinter/__init__.py?line=2300'>2301</a>\u001b[0m     \u001b[39mself\u001b[39m\u001b[39m.\u001b[39m_loadtk()\n",
      "\u001b[0;31mTclError\u001b[0m: couldn't connect to display \":1\""
     ]
    }
   ],
   "source": [
    "from tkinter import *\n",
    "root = Tk()\n",
    "redbutton = Button(root, text=\"Red\", fg=\"red\",bg=\"black\").pack(side=LEFT)\n",
    "greenbutton = Button(root, text=\"Green\", fg=\"green\",bg=\"black\").pack(side=RIGHT)\n",
    "pinkbutton = Button(root, text=\"pink\", fg=\"pink\",bg=\"black\").pack(side=BOTTOM)\n",
    "cyanbutton = Button(root, text=\"Cyan\", fg=\"cyan\",bg=\"black\").pack(side=TOP)\n",
    "root.mainloop()"
   ]
  },
  {
   "cell_type": "code",
   "execution_count": null,
   "metadata": {},
   "outputs": [],
   "source": [
    "parent = Tk()\n",
    "name = Label(parent, text=\"Name\").grid(row=0,column=0)\n",
    "e1 = Entry(parent).grid(row=0,column=1)\n",
    "password = Label(parent, text=\"Password\").grid(row=1,column=0)\n",
    "e2 = Entry(parent).grid(row=1,column=1)\n",
    "submit = Button(parent, text=\"Submit\").grid(row=4,column=0)\n",
    "parent.mainloop()"
   ]
  }
 ],
 "metadata": {
  "interpreter": {
   "hash": "916dbcbb3f70747c44a77c7bcd40155683ae19c65e1c03b4aa3499c5328201f1"
  },
  "kernelspec": {
   "display_name": "Python 3.9.7 64-bit",
   "language": "python",
   "name": "python3"
  },
  "language_info": {
   "codemirror_mode": {
    "name": "ipython",
    "version": 3
   },
   "file_extension": ".py",
   "mimetype": "text/x-python",
   "name": "python",
   "nbconvert_exporter": "python",
   "pygments_lexer": "ipython3",
   "version": "3.10.4"
  },
  "orig_nbformat": 4
 },
 "nbformat": 4,
 "nbformat_minor": 2
}

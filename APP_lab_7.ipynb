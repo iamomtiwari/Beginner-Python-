{
 "cells": [
  {
   "cell_type": "code",
   "execution_count": 2,
   "id": "d16311a7",
   "metadata": {},
   "outputs": [
    {
     "name": "stdout",
     "output_type": "stream",
     "text": [
      "Input your height: \n",
      "Meters: 4\n",
      "Your height is : 13 ft.\n"
     ]
    }
   ],
   "source": [
    "#1\n",
    "\n",
    "print(\"Input your height: \")\n",
    "h_meter = int(input(\"Meters: \"))\n",
    "\n",
    "h_ft = h_meter*3.28\n",
    "\n",
    "print(\"Your height is : %d ft.\" % h_ft)"
   ]
  },
  {
   "cell_type": "code",
   "execution_count": 17,
   "id": "8ba425b3",
   "metadata": {},
   "outputs": [
    {
     "name": "stdout",
     "output_type": "stream",
     "text": [
      "Iamgood\n",
      "Text  : Iamgood\n",
      "Shift : 4\n",
      "Cipher: Meqkssh\n"
     ]
    }
   ],
   "source": [
    "#4 \n",
    "\n",
    "def encrypt(text,s):\n",
    "    result = \"\"\n",
    "    for i in range(len(text)):\n",
    "        char = text[i]\n",
    "        if (char.isupper()):\n",
    "            result += chr((ord(char) + s-65) % 26 + 65)\n",
    "        else:\n",
    "            result += chr((ord(char) + s - 97) % 26 + 97)\n",
    "    return result\n",
    "text = input()\n",
    "s = 4\n",
    "print (\"Text  : \" + text)\n",
    "print (\"Shift : \" + str(s))\n",
    "print (\"Cipher: \" + encrypt(text,s))"
   ]
  },
  {
   "cell_type": "code",
   "execution_count": 13,
   "id": "b07f5e86",
   "metadata": {},
   "outputs": [
    {
     "name": "stdout",
     "output_type": "stream",
     "text": [
      "Aastha Aggarwal\n",
      "A\n",
      "A\n"
     ]
    }
   ],
   "source": [
    "#9\n",
    "\n",
    "name = input()\n",
    "if(len(name) == 0):\n",
    "    pass\n",
    "print(name[0].upper()),\n",
    "for i in range(1, len(name) - 1):\n",
    "    if (name[i] == ' '):\n",
    "        print (name[i + 1].upper()),"
   ]
  },
  {
   "cell_type": "code",
   "execution_count": 15,
   "id": "d71d52ae",
   "metadata": {},
   "outputs": [
    {
     "name": "stdout",
     "output_type": "stream",
     "text": [
      "5\n"
     ]
    },
    {
     "data": {
      "text/plain": [
       "625"
      ]
     },
     "execution_count": 15,
     "metadata": {},
     "output_type": "execute_result"
    }
   ],
   "source": [
    "#2\n",
    "\n",
    "square = lambda num: num**2\n",
    "twice = lambda fun,x: fun(fun(x))\n",
    "quad = lambda n: twice(square,n)\n",
    "quad(int(input()))\n"
   ]
  },
  {
   "cell_type": "code",
   "execution_count": 19,
   "id": "d0803177",
   "metadata": {},
   "outputs": [
    {
     "name": "stdout",
     "output_type": "stream",
     "text": [
      "3\n",
      "[49, 11, 16]\n"
     ]
    },
    {
     "data": {
      "text/plain": [
       "11"
      ]
     },
     "execution_count": 19,
     "metadata": {},
     "output_type": "execute_result"
    }
   ],
   "source": [
    "#3\n",
    "\n",
    "import random\n",
    "n = int(input())\n",
    "def lottery(n):\n",
    "    l=[]\n",
    "    for i in range(0,n):\n",
    "        l.append(random.randint(0,100))\n",
    "    print(l)\n",
    "    return random.choice(l)\n",
    "lottery(n)\n",
    "\n"
   ]
  },
  {
   "cell_type": "code",
   "execution_count": null,
   "id": "aa63dd72",
   "metadata": {},
   "outputs": [],
   "source": []
  }
 ],
 "metadata": {
  "kernelspec": {
   "display_name": "Python 3 (ipykernel)",
   "language": "python",
   "name": "python3"
  },
  "language_info": {
   "codemirror_mode": {
    "name": "ipython",
    "version": 3
   },
   "file_extension": ".py",
   "mimetype": "text/x-python",
   "name": "python",
   "nbconvert_exporter": "python",
   "pygments_lexer": "ipython3",
   "version": "3.9.7"
  }
 },
 "nbformat": 4,
 "nbformat_minor": 5
}

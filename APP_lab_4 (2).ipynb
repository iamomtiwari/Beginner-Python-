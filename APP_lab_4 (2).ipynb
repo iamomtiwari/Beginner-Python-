{
 "cells": [
  {
   "cell_type": "markdown",
   "metadata": {},
   "source": [
    "# RA2011026010**367**\n",
    "# Fadhil Kolakkadan\n",
    "# Lab 4\n",
    "# CSE S1 - BATCH 2"
   ]
  },
  {
   "cell_type": "code",
   "execution_count": 1,
   "metadata": {},
   "outputs": [],
   "source": [
    "import sqlite3\n",
    "con = sqlite3.connect('test.db')\n"
   ]
  },
  {
   "cell_type": "code",
   "execution_count": 2,
   "metadata": {},
   "outputs": [],
   "source": [
    "def printdb(table, col='*'):\n",
    "    csr = con.execute(f\"select {col} from {table}\")\n",
    "    for row in csr:\n",
    "        print(row)\n"
   ]
  },
  {
   "cell_type": "markdown",
   "metadata": {},
   "source": [
    "## Graded Questions\n"
   ]
  },
  {
   "cell_type": "markdown",
   "metadata": {},
   "source": [
    "### Q1 Create the below table and execute the insert, update and the below select statements.\n"
   ]
  },
  {
   "cell_type": "code",
   "execution_count": 3,
   "metadata": {},
   "outputs": [
    {
     "data": {
      "text/plain": [
       "<sqlite3.Cursor at 0x7fc55c0ff810>"
      ]
     },
     "execution_count": 3,
     "metadata": {},
     "output_type": "execute_result"
    }
   ],
   "source": [
    "con.execute('''CREATE TABLE recipes(\n",
    "id INT(11) PRIMARY KEY ,\n",
    "name VARCHAR(400),\n",
    "description TEXT,\n",
    "category_id INT(11),\n",
    "chef_id INT(255),\n",
    "created DATETIME);''')\n"
   ]
  },
  {
   "cell_type": "markdown",
   "metadata": {},
   "source": [
    "#### i) Write a query to display the total number of recipes available with the description \"Chinese\"\n"
   ]
  },
  {
   "cell_type": "code",
   "execution_count": null,
   "metadata": {},
   "outputs": [],
   "source": [
    "res = con.execute('select * from recipes where description like \"Chinese\"')\n"
   ]
  },
  {
   "cell_type": "markdown",
   "metadata": {},
   "source": [
    "#### ii) Write a query to display the id, name of the recipes with chef_id 'BL000002'.\n"
   ]
  },
  {
   "cell_type": "code",
   "execution_count": 5,
   "metadata": {},
   "outputs": [
    {
     "data": {
      "text/plain": [
       "<sqlite3.Cursor at 0x7fc55c0ff9d0>"
      ]
     },
     "execution_count": 5,
     "metadata": {},
     "output_type": "execute_result"
    }
   ],
   "source": [
    "con.execute(\n",
    "    ''' INSERT INTO recipes (id, name, description, category_id, chef_id, created)\n",
    "        VALUES (2,'Dish2','Polish',2,2,'2020-01-01')\n",
    "    '''\n",
    ")\n"
   ]
  },
  {
   "cell_type": "code",
   "execution_count": 6,
   "metadata": {},
   "outputs": [
    {
     "data": {
      "text/plain": [
       "<sqlite3.Cursor at 0x7fc55c0ffb20>"
      ]
     },
     "execution_count": 6,
     "metadata": {},
     "output_type": "execute_result"
    }
   ],
   "source": [
    "\n",
    "con.execute(\n",
    "    ''' INSERT INTO recipes (id, name, description, category_id, chef_id, created)\n",
    "        VALUES (3,'Dish3','Polish',2,'BL000002','2020-01-01')\n",
    "    '''\n",
    ")\n"
   ]
  },
  {
   "cell_type": "markdown",
   "metadata": {},
   "source": [
    "#### iii) Write a query to display the description of the recipes whose name begins with 'P'.\n"
   ]
  },
  {
   "cell_type": "code",
   "execution_count": 7,
   "metadata": {},
   "outputs": [
    {
     "name": "stdout",
     "output_type": "stream",
     "text": [
      "(2, 'Dish2', 'Polish', 2, 2, '2020-01-01')\n",
      "(3, 'Dish3', 'Polish', 2, 'BL000002', '2020-01-01')\n"
     ]
    }
   ],
   "source": [
    "ans = con.execute('''select * from recipes''')\n",
    "for row in ans:\n",
    "    if row[2][0] == 'P':\n",
    "        print(row)\n"
   ]
  },
  {
   "cell_type": "code",
   "execution_count": 8,
   "metadata": {},
   "outputs": [],
   "source": [
    "con.commit()\n"
   ]
  },
  {
   "cell_type": "markdown",
   "metadata": {},
   "source": [
    "### Q2. Create a table movie of the below structure and assume data types.Movie_ID,Movie_Name, Genre, Language, Rating ,Do the following queries\n"
   ]
  },
  {
   "cell_type": "code",
   "execution_count": 13,
   "metadata": {},
   "outputs": [
    {
     "data": {
      "text/plain": [
       "<sqlite3.Cursor at 0x7fc547d67e30>"
      ]
     },
     "execution_count": 13,
     "metadata": {},
     "output_type": "execute_result"
    }
   ],
   "source": [
    "con.execute(\n",
    "    '''\n",
    "    CREATE TABLE movie(\n",
    "        Movie_ID INT PRIMARY KEY,\n",
    "        Movie_Name VARCHAR(100),\n",
    "        Genre VARCHAR(50),\n",
    "        Language VARCHAR(20),\n",
    "        Rating FLOAT(3)\n",
    "    );\n",
    "    '''\n",
    ")\n"
   ]
  },
  {
   "cell_type": "code",
   "execution_count": 14,
   "metadata": {},
   "outputs": [],
   "source": [
    "for n in range(11):\n",
    "    con.execute(\n",
    "        f'''\n",
    "        INSERT INTO movie(Movie_ID,Movie_Name,Genre,Language,Rating) \n",
    "        VALUES ({98+n},'Movie{n}','Programming','English',{n+(n/10)});\n",
    "        '''\n",
    "    )\n"
   ]
  },
  {
   "cell_type": "markdown",
   "metadata": {},
   "source": [
    "#### a. Update the movies rating by 10% and display it\n"
   ]
  },
  {
   "cell_type": "code",
   "execution_count": 16,
   "metadata": {},
   "outputs": [
    {
     "data": {
      "text/plain": [
       "<sqlite3.Cursor at 0x7fc547d67ab0>"
      ]
     },
     "execution_count": 16,
     "metadata": {},
     "output_type": "execute_result"
    }
   ],
   "source": [
    "con.execute(f'UPDATE movie SET Rating = Rating+(Rating/10);')\n"
   ]
  },
  {
   "cell_type": "code",
   "execution_count": 17,
   "metadata": {},
   "outputs": [
    {
     "name": "stdout",
     "output_type": "stream",
     "text": [
      "(0.0,)\n",
      "(1.33,)\n",
      "(2.66,)\n",
      "(3.99,)\n",
      "(5.32,)\n",
      "(6.66,)\n",
      "(7.99,)\n",
      "(9.32,)\n",
      "(10.65,)\n",
      "(11.98,)\n",
      "(13.31,)\n"
     ]
    }
   ],
   "source": [
    "res = con.execute('SELECT ROUND(Rating,2) FROM movie;')\n",
    "for row in res:\n",
    "    print(row)\n"
   ]
  },
  {
   "cell_type": "markdown",
   "metadata": {},
   "source": [
    "#### b. Delete the movies with movie_id 102\n"
   ]
  },
  {
   "cell_type": "code",
   "execution_count": 18,
   "metadata": {},
   "outputs": [
    {
     "data": {
      "text/plain": [
       "<sqlite3.Cursor at 0x7fc547ebda40>"
      ]
     },
     "execution_count": 18,
     "metadata": {},
     "output_type": "execute_result"
    }
   ],
   "source": [
    "con.execute('DELETE FROM movie WHERE Movie_ID =102;')\n"
   ]
  },
  {
   "cell_type": "code",
   "execution_count": 19,
   "metadata": {},
   "outputs": [
    {
     "name": "stdout",
     "output_type": "stream",
     "text": [
      "(98, 'Movie0', 'Programming', 'English', 0.0)\n",
      "(99, 'Movie1', 'Programming', 'English', 1.3310000000000002)\n",
      "(100, 'Movie2', 'Programming', 'English', 2.6620000000000004)\n",
      "(101, 'Movie3', 'Programming', 'English', 3.993)\n",
      "(103, 'Movie5', 'Programming', 'English', 6.654999999999999)\n",
      "(104, 'Movie6', 'Programming', 'English', 7.986)\n",
      "(105, 'Movie7', 'Programming', 'English', 9.317)\n",
      "(106, 'Movie8', 'Programming', 'English', 10.648000000000001)\n",
      "(107, 'Movie9', 'Programming', 'English', 11.979000000000001)\n",
      "(108, 'Movie10', 'Programming', 'English', 13.309999999999999)\n"
     ]
    }
   ],
   "source": [
    "printdb('movie')\n"
   ]
  },
  {
   "cell_type": "markdown",
   "metadata": {},
   "source": [
    "#### c. Select movies whose rating is more than 3.\n"
   ]
  },
  {
   "cell_type": "code",
   "execution_count": 20,
   "metadata": {},
   "outputs": [
    {
     "name": "stdout",
     "output_type": "stream",
     "text": [
      "('Movie3', 3.99)\n",
      "('Movie5', 6.66)\n",
      "('Movie6', 7.99)\n",
      "('Movie7', 9.32)\n",
      "('Movie8', 10.65)\n",
      "('Movie9', 11.98)\n",
      "('Movie10', 13.31)\n"
     ]
    }
   ],
   "source": [
    "ans = con.execute(\n",
    "    'SELECT Movie_Name,ROUND(Rating,2) as Rating FROM movie WHERE Rating > 3;')\n",
    "for row in ans:\n",
    "    print(row)\n"
   ]
  },
  {
   "cell_type": "markdown",
   "metadata": {},
   "source": [
    "### Q3. Create a course database with the following fields\n",
    "\n",
    "- Product(_ID_ , Prod_name ,Supplier_id ,_Unit_price_ ,Package ,OrderID),\n",
    "- OrderItem(_ID_ ,Order_id ,Product_id ,_Unit_price_ ,Quantity) using Foreign key\n"
   ]
  },
  {
   "cell_type": "code",
   "execution_count": 21,
   "metadata": {},
   "outputs": [
    {
     "data": {
      "text/plain": [
       "<sqlite3.Cursor at 0x7fc547ebd880>"
      ]
     },
     "execution_count": 21,
     "metadata": {},
     "output_type": "execute_result"
    }
   ],
   "source": [
    "con.execute('''\n",
    "CREATE TABLE product(\n",
    "    product_ID INT PRIMARY KEY,\n",
    "    Product_Name VARCHAR(100),\n",
    "    Supplier_ID INT,\n",
    "    Unit_Price FLOAT,\n",
    "    Package VARCHAR(50),\n",
    "    Order_ID INT\n",
    "    );\n",
    "    ''')\n",
    "con.execute('''\n",
    "CREATE TABLE orderitem(\n",
    "    Order_ID INT PRIMARY KEY,\n",
    "    Product_ID INT,\n",
    "    Unit_Price FLOAT,\n",
    "    Quantity INT,\n",
    "    CONSTRAINT fk_product\n",
    "    FOREIGN KEY (product_ID)\n",
    "    REFERENCES product(product_ID)\n",
    "    );''')\n"
   ]
  },
  {
   "cell_type": "code",
   "execution_count": 22,
   "metadata": {},
   "outputs": [
    {
     "data": {
      "text/plain": [
       "<sqlite3.Cursor at 0x7fc547ebdb20>"
      ]
     },
     "execution_count": 22,
     "metadata": {},
     "output_type": "execute_result"
    }
   ],
   "source": [
    "con.execute(\"DELETE FROM product;\")"
   ]
  },
  {
   "cell_type": "code",
   "execution_count": 23,
   "metadata": {},
   "outputs": [],
   "source": [
    "for i in range(1,11):\n",
    "    con.execute(\n",
    "        f'''\n",
    "        INSERT INTO product(product_ID,Product_Name,Supplier_ID,Unit_Price,Package,Order_ID)\n",
    "        VALUES ({i},'Product{i}',{i},{i**3+(i/10)},{i*i + 2},{1000+i*3});\n",
    "        '''\n",
    "    )"
   ]
  },
  {
   "cell_type": "code",
   "execution_count": 24,
   "metadata": {},
   "outputs": [],
   "source": [
    "for i in range(1,11):\n",
    "    con.execute(\n",
    "        f'''\n",
    "        INSERT INTO orderitem(Order_ID,Product_ID,Unit_Price,Quantity)\n",
    "        VALUES ({1000+i*3},{i},{i**3+(i/10)},{i*i});\n",
    "        '''\n",
    "    )"
   ]
  },
  {
   "cell_type": "code",
   "execution_count": 25,
   "metadata": {},
   "outputs": [
    {
     "name": "stdout",
     "output_type": "stream",
     "text": [
      "(1, 'Product1', 1, 1.1, '3', 1003)\n",
      "(2, 'Product2', 2, 8.2, '6', 1006)\n",
      "(3, 'Product3', 3, 27.3, '11', 1009)\n",
      "(4, 'Product4', 4, 64.4, '18', 1012)\n",
      "(5, 'Product5', 5, 125.5, '27', 1015)\n",
      "(6, 'Product6', 6, 216.6, '38', 1018)\n",
      "(7, 'Product7', 7, 343.7, '51', 1021)\n",
      "(8, 'Product8', 8, 512.8, '66', 1024)\n",
      "(9, 'Product9', 9, 729.9, '83', 1027)\n",
      "(10, 'Product10', 10, 1001.0, '102', 1030)\n",
      "--------------------------------------------------\n",
      "(1003, 1, 1.1, 1)\n",
      "(1006, 2, 8.2, 4)\n",
      "(1009, 3, 27.3, 9)\n",
      "(1012, 4, 64.4, 16)\n",
      "(1015, 5, 125.5, 25)\n",
      "(1018, 6, 216.6, 36)\n",
      "(1021, 7, 343.7, 49)\n",
      "(1024, 8, 512.8, 64)\n",
      "(1027, 9, 729.9, 81)\n",
      "(1030, 10, 1001.0, 100)\n"
     ]
    }
   ],
   "source": [
    "printdb('product')\n",
    "print('-'*50)\n",
    "printdb('orderitem')"
   ]
  },
  {
   "cell_type": "markdown",
   "metadata": {},
   "source": [
    "#### d. Display the total quantity of every product in the stock"
   ]
  },
  {
   "cell_type": "code",
   "execution_count": 26,
   "metadata": {},
   "outputs": [
    {
     "name": "stdout",
     "output_type": "stream",
     "text": [
      "('Product1', 1)\n",
      "('Product2', 4)\n",
      "('Product3', 9)\n",
      "('Product4', 16)\n",
      "('Product5', 25)\n",
      "('Product6', 36)\n",
      "('Product7', 49)\n",
      "('Product8', 64)\n",
      "('Product9', 81)\n",
      "('Product10', 100)\n"
     ]
    }
   ],
   "source": [
    "ans = con.execute('''\n",
    "SELECT product.Product_Name,orderitem.Quantity\n",
    "FROM product INNER JOIN orderitem ON product.product_ID = orderitem.product_ID\n",
    "''')\n",
    "for row in ans:\n",
    "    print(row)"
   ]
  },
  {
   "cell_type": "markdown",
   "metadata": {},
   "source": [
    "#### e. Sort the Unit_price based on the supplier_id"
   ]
  },
  {
   "cell_type": "code",
   "execution_count": 27,
   "metadata": {},
   "outputs": [
    {
     "name": "stdout",
     "output_type": "stream",
     "text": [
      "(1.1, 'Product1')\n",
      "(8.2, 'Product2')\n",
      "(27.3, 'Product3')\n",
      "(64.4, 'Product4')\n",
      "(125.5, 'Product5')\n",
      "(216.6, 'Product6')\n",
      "(343.7, 'Product7')\n",
      "(512.8, 'Product8')\n",
      "(729.9, 'Product9')\n",
      "(1001.0, 'Product10')\n"
     ]
    }
   ],
   "source": [
    "res = con.execute(\"SELECT Unit_Price,Product_Name FROM product ORDER BY Supplier_ID;\")\n",
    "for row in res:\n",
    "    print(row)"
   ]
  },
  {
   "cell_type": "markdown",
   "metadata": {},
   "source": [
    "#### f. Display the Product_name along with order_id an"
   ]
  },
  {
   "cell_type": "code",
   "execution_count": 28,
   "metadata": {},
   "outputs": [
    {
     "name": "stdout",
     "output_type": "stream",
     "text": [
      "('Product1', 1003, 1)\n",
      "('Product2', 1006, 2)\n",
      "('Product3', 1009, 3)\n",
      "('Product4', 1012, 4)\n",
      "('Product5', 1015, 5)\n",
      "('Product6', 1018, 6)\n",
      "('Product7', 1021, 7)\n",
      "('Product8', 1024, 8)\n",
      "('Product9', 1027, 9)\n",
      "('Product10', 1030, 10)\n"
     ]
    }
   ],
   "source": [
    "res = con.execute(\"SELECT Product_Name,Order_ID,Supplier_ID FROM product;\")\n",
    "for row in res:\n",
    "    print(row)"
   ]
  },
  {
   "cell_type": "markdown",
   "metadata": {},
   "source": [
    "### Q4. Write a SQL lite3 statement to create a table named as job including columns job_id,job_title,Min-salary,Max_salary.job_id column does not contain any duplicate value at the time of insertion"
   ]
  },
  {
   "cell_type": "code",
   "execution_count": 29,
   "metadata": {},
   "outputs": [
    {
     "data": {
      "text/plain": [
       "<sqlite3.Cursor at 0x7fc547db9b20>"
      ]
     },
     "execution_count": 29,
     "metadata": {},
     "output_type": "execute_result"
    }
   ],
   "source": [
    "con.execute('''\n",
    "CREATE TABLE job(\n",
    "    job_id INT PRIMARY KEY,\n",
    "    job_title VARCHAR(100),\n",
    "    Min_salary FLOAT,\n",
    "    Max_salary FLOAT\n",
    ");\n",
    "''')\n",
    "\n",
    "con.execute('''\n",
    "INSERT INTO job(job_id,job_title,Min_salary,Max_salary)\n",
    "VALUES (1,'Developer',1000,2000);\n",
    "''')"
   ]
  },
  {
   "cell_type": "markdown",
   "metadata": {},
   "source": [
    "**Using the primary key property on job_id makes sure there are no duplicate values** "
   ]
  },
  {
   "cell_type": "markdown",
   "metadata": {},
   "source": [
    "### 5. Write a SQL lite3 statement to create a table names as job_history including columns employee_id, start_date, end_date, job_id and department_id and make sure that, the employee_id column does not contain any duplicate value at the time of insertion and the foreign key column job_id contain only those values which are exist in the job table."
   ]
  },
  {
   "cell_type": "code",
   "execution_count": 30,
   "metadata": {},
   "outputs": [
    {
     "data": {
      "text/plain": [
       "<sqlite3.Cursor at 0x7fc547db9810>"
      ]
     },
     "execution_count": 30,
     "metadata": {},
     "output_type": "execute_result"
    }
   ],
   "source": [
    "con.execute(\n",
    "    '''\n",
    "    CREATE TABLE job_history(\n",
    "        employee_id INT PRIMARY KEY,\n",
    "        start_date DATE,\n",
    "        end_date DATE,\n",
    "        job_id INT,\n",
    "        department_id INT,\n",
    "        CONSTRAINT fk_job\n",
    "        FOREIGN KEY (job_id)\n",
    "        REFERENCES jobs(job_id)\n",
    "    );\n",
    "    '''\n",
    ")\n"
   ]
  },
  {
   "cell_type": "code",
   "execution_count": 31,
   "metadata": {},
   "outputs": [
    {
     "name": "stdout",
     "output_type": "stream",
     "text": [
      "('recipes',)\n",
      "('movie',)\n",
      "('product',)\n",
      "('orderitem',)\n",
      "('job',)\n",
      "('job_history',)\n"
     ]
    }
   ],
   "source": [
    "res = con.execute(\"SELECT name FROM sqlite_master WHERE type='table';\")\n",
    "for row in res:\n",
    "    print(row)"
   ]
  },
  {
   "cell_type": "markdown",
   "metadata": {},
   "source": [
    "def solution:"
   ]
  }
 ],
 "metadata": {
  "interpreter": {
   "hash": "916dbcbb3f70747c44a77c7bcd40155683ae19c65e1c03b4aa3499c5328201f1"
  },
  "kernelspec": {
   "display_name": "Python 3.9.7 64-bit",
   "language": "python",
   "name": "python3"
  },
  "language_info": {
   "codemirror_mode": {
    "name": "ipython",
    "version": 3
   },
   "file_extension": ".py",
   "mimetype": "text/x-python",
   "name": "python",
   "nbconvert_exporter": "python",
   "pygments_lexer": "ipython3",
   "version": "3.9.7"
  },
  "orig_nbformat": 4
 },
 "nbformat": 4,
 "nbformat_minor": 2
}
